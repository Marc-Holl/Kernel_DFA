{
 "cells": [
  {
   "cell_type": "markdown",
   "metadata": {},
   "source": [
    "# Kernel of Detrended Fluctuation Analysis (DFA)\n",
    "We want to calculate $L(i,j,s)$ given in the formula\n",
    "$$F^2(s) = \\sum_{i,j=1}^s \\text{Cov}(i,j)L(i,j,s)$$\n",
    "with the following code:"
   ]
  },
  {
   "cell_type": "markdown",
   "metadata": {},
   "source": [
    "# Define order of detrending $q=0,1,2,3,\\ldots$"
   ]
  },
  {
   "cell_type": "code",
   "execution_count": 1,
   "metadata": {},
   "outputs": [],
   "source": [
    "q=0"
   ]
  },
  {
   "cell_type": "markdown",
   "metadata": {},
   "source": [
    "# Import sympy"
   ]
  },
  {
   "cell_type": "code",
   "execution_count": 2,
   "metadata": {},
   "outputs": [],
   "source": [
    "from sympy import *"
   ]
  },
  {
   "cell_type": "markdown",
   "metadata": {},
   "source": [
    "# Matrix $\\mathbb{S}$"
   ]
  },
  {
   "cell_type": "markdown",
   "metadata": {},
   "source": [
    "Calculate the matrix $\\mathbb{S}$"
   ]
  },
  {
   "cell_type": "code",
   "execution_count": 3,
   "metadata": {
    "scrolled": true
   },
   "outputs": [
    {
     "data": {
      "text/latex": [
       "$\\displaystyle \\left[\\begin{matrix}s\\end{matrix}\\right]$"
      ],
      "text/plain": [
       "Matrix([[s]])"
      ]
     },
     "execution_count": 3,
     "metadata": {},
     "output_type": "execute_result"
    }
   ],
   "source": [
    "s=symbols(\"s\")\n",
    "k1=symbols(\"k1\")\n",
    "matrixS=zeros(q+1,q+1)\n",
    "for m in range(q+1):\n",
    "    for n in range(q+1):\n",
    "        matrixS[m,n]=summation(k1**(m+n),(k1,1,s))\n",
    "matrixS        "
   ]
  },
  {
   "cell_type": "markdown",
   "metadata": {},
   "source": [
    "Show Inverse of $\\mathbb{S}$"
   ]
  },
  {
   "cell_type": "code",
   "execution_count": 4,
   "metadata": {},
   "outputs": [
    {
     "data": {
      "text/latex": [
       "$\\displaystyle \\left[\\begin{matrix}\\frac{1}{s}\\end{matrix}\\right]$"
      ],
      "text/plain": [
       "Matrix([[1/s]])"
      ]
     },
     "execution_count": 4,
     "metadata": {},
     "output_type": "execute_result"
    }
   ],
   "source": [
    "simplify(matrixS.inv())"
   ]
  },
  {
   "cell_type": "markdown",
   "metadata": {},
   "source": [
    "Show elements of Inverse of $\\mathbb{S}$"
   ]
  },
  {
   "cell_type": "code",
   "execution_count": 5,
   "metadata": {},
   "outputs": [
    {
     "name": "stdout",
     "output_type": "stream",
     "text": [
      "1/s\n"
     ]
    }
   ],
   "source": [
    "for m in range(q+1):\n",
    "    for n in range(q+1):\n",
    "        print(simplify(matrixS.inv()[m,n]))\n",
    "        "
   ]
  },
  {
   "cell_type": "markdown",
   "metadata": {},
   "source": [
    "# Weights of fitting polynomial $P_1^{(q)}(i,t)$"
   ]
  },
  {
   "cell_type": "code",
   "execution_count": 6,
   "metadata": {},
   "outputs": [
    {
     "data": {
      "text/latex": [
       "$\\displaystyle \\frac{- i + s + 1}{s}$"
      ],
      "text/plain": [
       "(-i + s + 1)/s"
      ]
     },
     "execution_count": 6,
     "metadata": {},
     "output_type": "execute_result"
    }
   ],
   "source": [
    "i,t,P=symbols(\"i,t,P\")\n",
    "k2,m1,n1=symbols(\"k2,m1,n1\")\n",
    "P=simplify(summation(t**m1*summation(matrixS.inv()[m1,n1]*summation(k1**n1,(k1,i,s)),(n1,0,q)),(m1,0,q)))\n",
    "P"
   ]
  },
  {
   "cell_type": "markdown",
   "metadata": {},
   "source": [
    "# Kernel $L(i,j,s)$"
   ]
  },
  {
   "cell_type": "code",
   "execution_count": 7,
   "metadata": {},
   "outputs": [
    {
     "data": {
      "text/latex": [
       "$\\displaystyle \\frac{- i j + i s + i + j - s - 1}{s^{2}}$"
      ],
      "text/plain": [
       "(-i*j + i*s + i + j - s - 1)/s**2"
      ]
     },
     "execution_count": 7,
     "metadata": {},
     "output_type": "execute_result"
    }
   ],
   "source": [
    "j,L=symbols(\"j,L\")\n",
    "L=simplify(1/s*(summation(1,(t,j,s))-summation(P.subs(i,j),(t,i,s))-summation(P,(t,j,s))+summation(P*P.subs(i,j),(t,1,s))))\n",
    "L"
   ]
  },
  {
   "cell_type": "markdown",
   "metadata": {},
   "source": [
    "In order to use the kernel $L(i,j,s)$ for your Python code take this:"
   ]
  },
  {
   "cell_type": "code",
   "execution_count": 8,
   "metadata": {},
   "outputs": [
    {
     "name": "stdout",
     "output_type": "stream",
     "text": [
      "(-i*j + i*s + i + j - s - 1)/s**2\n"
     ]
    }
   ],
   "source": [
    "print(L)"
   ]
  },
  {
   "cell_type": "code",
   "execution_count": null,
   "metadata": {},
   "outputs": [],
   "source": []
  }
 ],
 "metadata": {
  "kernelspec": {
   "display_name": "Python 3",
   "language": "python",
   "name": "python3"
  },
  "language_info": {
   "codemirror_mode": {
    "name": "ipython",
    "version": 3
   },
   "file_extension": ".py",
   "mimetype": "text/x-python",
   "name": "python",
   "nbconvert_exporter": "python",
   "pygments_lexer": "ipython3",
   "version": "3.7.6"
  }
 },
 "nbformat": 4,
 "nbformat_minor": 4
}
